{
 "cells": [
  {
   "cell_type": "markdown",
   "metadata": {},
   "source": [
    "# K-Means and K-Medoids clustering from \"Scratch\"\n",
    "\n",
    "The k-means clustering algorithm is one of the most basic forms of unsupervised\n",
    "machine learning, and is foundational to a number of other ML methods.\n",
    "K-medoids is a related variant with a very similar algorithm.\n",
    "\n",
    "In this notebook I'll go over the general algorithms, the mathematical\n",
    "intuitions for the methods, and implement simple \"from scratch\" functions in\n",
    "python (i.e., a clear translation of the algo & math, but inefficient compared\n",
    "to packaged implementations).\n"
   ]
  },
  {
   "cell_type": "markdown",
   "metadata": {},
   "source": [
    "## The $k$-means clustering algorithm\n",
    "\n",
    "The algorithm is really very straightforward:  \n",
    "1. Initialize either with $k$ randomly selected points in the $n$-dimensional\n",
    "   feature space or $k$ randomly selected data points\n",
    "2. Assign all data points to the nearest of those randomly selected points\n",
    "3. Find the centroid of those $k$ assigned clusters\n",
    "4. Reassign all data points to the closest of those new $k$ centroids\n",
    "5. Repeat steps 3 and 4 until the assignments and/or centroids stop changing.\n",
    "\n",
    "The goal is simple -- find an assignment for all points such that, for each\n",
    "cluster, the within-cluster data points are closer to the group's centroid than\n",
    "they are to any other group's center.\n",
    "\n",
    "So, we basically have five tasks to code:\n",
    "1. Initialize\n",
    "2. Distance\n",
    "3. Assignment\n",
    "4. Find centers\n",
    "5. Stopping criteria\n"
   ]
  },
  {
   "cell_type": "markdown",
   "metadata": {},
   "source": [
    "### Setup\n",
    "\n",
    "The only package we'll be using is `numpy`"
   ]
  },
  {
   "cell_type": "code",
   "execution_count": 1,
   "metadata": {},
   "outputs": [],
   "source": [
    "import numpy as np"
   ]
  },
  {
   "cell_type": "markdown",
   "metadata": {},
   "source": [
    "### Initialize $k$ centers\n",
    "\n",
    "For this example, we'll select $k$ of our data points at random to facilitate\n",
    "convergence. Alternatively, one could assign $k$ arbitrary points somewhere\n",
    "within the overall range of the data.\n",
    "\n",
    "To help randomize the selection, we'll make our random selection with\n",
    "[`numpy.random.choice`](https://numpy.org/doc/stable/reference/random/generated/numpy.random.choice.html)\n",
    "from a \"shuffled\" data set using\n",
    "[`numpy.random.shuffle`](https://numpy.org/doc/stable/reference/random/generated/numpy.random.shuffle.html).\n"
   ]
  },
  {
   "cell_type": "code",
   "execution_count": 5,
   "metadata": {},
   "outputs": [],
   "source": [
    "def diy_kmeans_initialize(dat, k_clust):\n",
    "\n",
    "    # Shuffle the data matrix\n",
    "\n",
    "    dat_shuffled = np.random.shuffle(dat)\n",
    "\n",
    "    # Choose k random points from the shuffled matrix\n",
    "\n",
    "    k_centers = dat_shuffled[np.random.choice(\n",
    "        dat_shuffled.shape[0], k_clust, replace=False), :]\n",
    "\n",
    "    return k_centers"
   ]
  },
  {
   "cell_type": "markdown",
   "metadata": {},
   "source": [
    "### Distance\n",
    "\n",
    "Find the squared Euclidean distance between each data point and each of the $k$\n",
    "centers. We'll use `numpy.linalg.norm` to calculate the equivalent square of\n",
    "the Froebenius or $\\ell_2$ matrix norm."
   ]
  },
  {
   "cell_type": "code",
   "execution_count": null,
   "metadata": {},
   "outputs": [],
   "source": [
    "def diy_kmeans_distance(dat, centers):\n",
    "\n",
    "    d = np.empty((dat.shape[0], centers.shape[0]))\n",
    "    \n",
    "    # Find L2 norm (Euclidean distance) from each center\n",
    "\n",
    "    for k in range(centers.shape[0]):\n",
    "        d[:, k] = np.linalg.norm(dat - centers[k, :], axis=1)\n",
    "\n",
    "    # Return the squared distances\n",
    "\n",
    "    return np.square(d)"
   ]
  },
  {
   "cell_type": "markdown",
   "metadata": {},
   "source": [
    "### Assignment"
   ]
  },
  {
   "cell_type": "code",
   "execution_count": null,
   "metadata": {},
   "outputs": [],
   "source": []
  },
  {
   "cell_type": "markdown",
   "metadata": {},
   "source": [
    "### Find $k$ centers\n",
    "\n"
   ]
  },
  {
   "cell_type": "code",
   "execution_count": null,
   "metadata": {},
   "outputs": [],
   "source": []
  },
  {
   "cell_type": "markdown",
   "metadata": {},
   "source": [
    "### Stopping criteria"
   ]
  },
  {
   "cell_type": "code",
   "execution_count": null,
   "metadata": {},
   "outputs": [],
   "source": []
  }
 ],
 "metadata": {
  "kernelspec": {
   "display_name": "Python 3.8.12 ('base')",
   "language": "python",
   "name": "python3"
  },
  "language_info": {
   "codemirror_mode": {
    "name": "ipython",
    "version": 3
   },
   "file_extension": ".py",
   "mimetype": "text/x-python",
   "name": "python",
   "nbconvert_exporter": "python",
   "pygments_lexer": "ipython3",
   "version": "3.8.12"
  },
  "orig_nbformat": 4,
  "vscode": {
   "interpreter": {
    "hash": "4133d3b7bb2d27cddddec19469460afffb38e919ca541224c2e32cbdfa9833d7"
   }
  }
 },
 "nbformat": 4,
 "nbformat_minor": 2
}
