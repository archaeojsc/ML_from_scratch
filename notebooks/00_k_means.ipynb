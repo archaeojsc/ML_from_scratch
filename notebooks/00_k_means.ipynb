{
 "cells": [
  {
   "cell_type": "markdown",
   "metadata": {},
   "source": [
    "# K-Means and K-Medoids clustering from \"Scratch\"\n",
    "\n",
    "The k-means clustering algorithm is one of the most basic forms of unsupervised\n",
    "machine learning, and is foundational to a number of other ML methods. K-medoids\n",
    "is a related variant with a very similar algorithm.\n",
    "\n",
    "In this notebook I'll go over the general algorithms, the mathematical\n",
    "intuitions for the methods, and implement simple \"from scratch\" functions in\n",
    "python (i.e., a clear translation of the algo & math, but inefficient compared\n",
    "to packaged implementations)."
   ]
  },
  {
   "cell_type": "markdown",
   "metadata": {},
   "source": [
    "## The $k$-means clustering algorithm\n",
    "\n",
    "The algorithm is really very straightforward:  \n",
    "1. Initialize either with $k$ randomly selected points in the $n$-dimensional feature space or $k$ randomly selected data points\n",
    "2. Assign all data points to the nearest of those randomly selected points\n",
    "3. Find the centroid of those $k$ assigned clusters\n",
    "4. Reassign all data points to the closest of those new $k$ centroids\n",
    "5. Repeat steps 3 and 4 until the assignments and/or centroids stop changing.\n",
    "\n"
   ]
  },
  {
   "cell_type": "code",
   "execution_count": 1,
   "metadata": {},
   "outputs": [],
   "source": [
    "import numpy as np"
   ]
  },
  {
   "cell_type": "code",
   "execution_count": null,
   "metadata": {},
   "outputs": [],
   "source": []
  }
 ],
 "metadata": {
  "interpreter": {
   "hash": "4133d3b7bb2d27cddddec19469460afffb38e919ca541224c2e32cbdfa9833d7"
  },
  "kernelspec": {
   "display_name": "Python 3.8.12 ('base')",
   "language": "python",
   "name": "python3"
  },
  "language_info": {
   "codemirror_mode": {
    "name": "ipython",
    "version": 3
   },
   "file_extension": ".py",
   "mimetype": "text/x-python",
   "name": "python",
   "nbconvert_exporter": "python",
   "pygments_lexer": "ipython3",
   "version": "3.8.12"
  },
  "orig_nbformat": 4
 },
 "nbformat": 4,
 "nbformat_minor": 2
}
